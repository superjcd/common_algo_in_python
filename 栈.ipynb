{
 "cells": [
  {
   "cell_type": "markdown",
   "metadata": {},
   "source": [
    "## 栈"
   ]
  },
  {
   "cell_type": "markdown",
   "metadata": {},
   "source": [
    "### 栈的实现 -- 基于链表"
   ]
  },
  {
   "cell_type": "code",
   "execution_count": 9,
   "metadata": {},
   "outputs": [],
   "source": [
    "class Node:\n",
    "    def __init__(self, data, next=None):\n",
    "        self.data = data \n",
    "        self.next = next\n",
    "\n",
    "\n",
    "class Stack():\n",
    "    def __init__(self):\n",
    "        self.top = None\n",
    "\n",
    "    def push(self, data):\n",
    "        new_top = Node(data)\n",
    "        new_top.next = self.top \n",
    "        self.top = new_top \n",
    "\n",
    "    def pop(self):\n",
    "        if self.top:\n",
    "            data = self.top.data \n",
    "            self.top = self.top.next\n",
    "            return data \n",
    "\n",
    "    def __repr__(self):\n",
    "        items = []\n",
    "        cur = self.top \n",
    "        \n",
    "        while cur:\n",
    "            items.append(cur.data)\n",
    "            cur = cur.next \n",
    "        items = [str(i) for i in items]\n",
    "        return f\"[{','.join(items)}]\""
   ]
  },
  {
   "cell_type": "code",
   "execution_count": 10,
   "metadata": {},
   "outputs": [
    {
     "data": {
      "text/plain": [
       "[9,8,7,6,5,4,3,2,1,0]"
      ]
     },
     "execution_count": 10,
     "metadata": {},
     "output_type": "execute_result"
    }
   ],
   "source": [
    "stack = Stack()\n",
    "\n",
    "for i in range(10):\n",
    "    stack.push(i)\n",
    "stack"
   ]
  },
  {
   "cell_type": "markdown",
   "metadata": {},
   "source": [
    "可以看到栈的一个特征就是， 能够反转（reverse）顺序\n",
    "\n"
   ]
  },
  {
   "cell_type": "markdown",
   "metadata": {},
   "source": [
    "### 栈的应用 -- 实现浏览器的前进后退功能"
   ]
  },
  {
   "cell_type": "code",
   "execution_count": 23,
   "metadata": {},
   "outputs": [],
   "source": [
    "def is_stack_empty(stack:Stack):\n",
    "    if stack.top == None:\n",
    "        return True \n",
    "    return False\n",
    "\n",
    "class Browser():\n",
    "    def __init__(self):\n",
    "        self.forward_stack = Stack()\n",
    "        self.backward_stack = Stack()\n",
    "\n",
    "    def open_new(self, url):\n",
    "        \"\"\"\n",
    "        新建页面\n",
    "        \"\"\"\n",
    "        self.forward_stack.push(url)\n",
    "\n",
    "    def forward(self) -> str:\n",
    "        if is_stack_empty(self.backward_stack):\n",
    "            return \n",
    "        \n",
    "        url = self.backward_stack.pop()\n",
    "        self.forward_stack.push(url)\n",
    "        return url\n",
    "\n",
    "    def backward(self) -> str:\n",
    "        if is_stack_empty(self.forward_stack):\n",
    "            return \n",
    "        url = self.forward_stack.pop()\n",
    "        self.backward_stack.push(url)\n",
    "        return url \n"
   ]
  },
  {
   "cell_type": "code",
   "execution_count": 24,
   "metadata": {},
   "outputs": [
    {
     "data": {
      "text/plain": [
       "'c.com'"
      ]
     },
     "execution_count": 24,
     "metadata": {},
     "output_type": "execute_result"
    }
   ],
   "source": [
    "browser = Browser() \n",
    "\n",
    "for url in [\"a.com\", 'b.com', 'c.com']:\n",
    "    browser.open_new(url) \n",
    "\n",
    "browser.backward()\n"
   ]
  },
  {
   "cell_type": "code",
   "execution_count": 25,
   "metadata": {},
   "outputs": [
    {
     "data": {
      "text/plain": [
       "'b.com'"
      ]
     },
     "execution_count": 25,
     "metadata": {},
     "output_type": "execute_result"
    }
   ],
   "source": [
    "browser.backward()"
   ]
  },
  {
   "cell_type": "code",
   "execution_count": 26,
   "metadata": {},
   "outputs": [
    {
     "data": {
      "text/plain": [
       "[b.com,c.com]"
      ]
     },
     "execution_count": 26,
     "metadata": {},
     "output_type": "execute_result"
    }
   ],
   "source": [
    "browser.backward_stack"
   ]
  },
  {
   "cell_type": "code",
   "execution_count": 27,
   "metadata": {},
   "outputs": [
    {
     "data": {
      "text/plain": [
       "'a.com'"
      ]
     },
     "execution_count": 27,
     "metadata": {},
     "output_type": "execute_result"
    }
   ],
   "source": [
    "browser.backward()"
   ]
  },
  {
   "cell_type": "code",
   "execution_count": 28,
   "metadata": {},
   "outputs": [
    {
     "data": {
      "text/plain": [
       "[a.com,b.com,c.com]"
      ]
     },
     "execution_count": 28,
     "metadata": {},
     "output_type": "execute_result"
    }
   ],
   "source": [
    "browser.backward_stack"
   ]
  },
  {
   "cell_type": "code",
   "execution_count": 29,
   "metadata": {},
   "outputs": [
    {
     "data": {
      "text/plain": [
       "[]"
      ]
     },
     "execution_count": 29,
     "metadata": {},
     "output_type": "execute_result"
    }
   ],
   "source": [
    "browser.forward_stack"
   ]
  },
  {
   "cell_type": "code",
   "execution_count": 30,
   "metadata": {},
   "outputs": [
    {
     "data": {
      "text/plain": [
       "'a.com'"
      ]
     },
     "execution_count": 30,
     "metadata": {},
     "output_type": "execute_result"
    }
   ],
   "source": [
    "browser.forward()"
   ]
  },
  {
   "cell_type": "code",
   "execution_count": 31,
   "metadata": {},
   "outputs": [
    {
     "data": {
      "text/plain": [
       "'b.com'"
      ]
     },
     "execution_count": 31,
     "metadata": {},
     "output_type": "execute_result"
    }
   ],
   "source": [
    "browser.forward()"
   ]
  },
  {
   "cell_type": "code",
   "execution_count": 32,
   "metadata": {},
   "outputs": [
    {
     "data": {
      "text/plain": [
       "'c.com'"
      ]
     },
     "execution_count": 32,
     "metadata": {},
     "output_type": "execute_result"
    }
   ],
   "source": [
    "browser.forward()"
   ]
  },
  {
   "cell_type": "code",
   "execution_count": 33,
   "metadata": {},
   "outputs": [
    {
     "data": {
      "text/plain": [
       "[c.com,b.com,a.com]"
      ]
     },
     "execution_count": 33,
     "metadata": {},
     "output_type": "execute_result"
    }
   ],
   "source": [
    "browser.forward_stack"
   ]
  },
  {
   "cell_type": "code",
   "execution_count": null,
   "metadata": {},
   "outputs": [],
   "source": []
  }
 ],
 "metadata": {
  "kernelspec": {
   "display_name": "Python 3.9.7 ('base')",
   "language": "python",
   "name": "python3"
  },
  "language_info": {
   "codemirror_mode": {
    "name": "ipython",
    "version": 3
   },
   "file_extension": ".py",
   "mimetype": "text/x-python",
   "name": "python",
   "nbconvert_exporter": "python",
   "pygments_lexer": "ipython3",
   "version": "3.9.7"
  },
  "orig_nbformat": 4,
  "vscode": {
   "interpreter": {
    "hash": "499b90a2f5fb3f4349666474a89bf18bdad22a2c96a4ede479fc917a75e9c3df"
   }
  }
 },
 "nbformat": 4,
 "nbformat_minor": 2
}
