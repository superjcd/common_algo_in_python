{
 "cells": [
  {
   "cell_type": "markdown",
   "metadata": {},
   "source": [
    "## 链表-LinkedList"
   ]
  },
  {
   "cell_type": "markdown",
   "metadata": {},
   "source": [
    "### 单链表(SinglyLinedList)实现"
   ]
  },
  {
   "cell_type": "markdown",
   "metadata": {},
   "source": [
    "链表表有以下特性：\n",
    "- O(1)的插入时间和删除时间\n",
    "- O(N)的查找时间\n",
    "和Array基本上是互补的， 和Array最大的不同在于， 它不需要在内存空间中有一块连续的地址， 而Array往往是需要一段连续地址空间；意味着链表可以更大化地利用内存空间， 当然代价是造成内存空间的碎片化，会频繁触发垃圾回收影响性能。\n",
    "除了单链表以外， 它的变形还包括：\n",
    "- 循坏链表， 也就是链表的尾部指向头部\n",
    "- 双向链表， 链表中的node除了保留对下一个节点的引用以外， 还保留了对前一个节点的应用， 进而在有序链表的情况下， 缩短查找时间"
   ]
  },
  {
   "cell_type": "code",
   "execution_count": 9,
   "metadata": {},
   "outputs": [],
   "source": [
    "from typing import Optional\n",
    "\n",
    "\n",
    "class Node:\n",
    "    def __init__(self, data: int, next_node=None):\n",
    "        self.data = data\n",
    "        self._next = next_node\n",
    "\n",
    "class SinglyLinkedList:\n",
    "    def __init__(self):\n",
    "        self._head = None\n",
    "\n",
    "    def find_by_value(self, value: int) -> Optional[Node]:\n",
    "        p = self._head\n",
    "        while p and p.data != value:\n",
    "            p = p._next\n",
    "        if p:\n",
    "            return p\n",
    "        raise ValueError(f\"Value {value} not found in SinglyLinkedList\")\n",
    "\n",
    "    def find_by_index(self, index: int) -> Optional[Node]:\n",
    "        p = self._head\n",
    "        position = 0\n",
    "        while p and position != index:\n",
    "            p = p._next\n",
    "            position += 1\n",
    "        return p\n",
    "\n",
    "    def insert_value_to_head(self, value: int):\n",
    "        new_node = Node(value)\n",
    "        self.insert_node_to_head(new_node)\n",
    "\n",
    "    def insert_node_to_head(self, new_node: Node):\n",
    "        new_node._next = self._head\n",
    "        self._head = new_node\n",
    "\n",
    "    def insert_value_after(self, node: Node, value: int):\n",
    "        new_node = Node(value)\n",
    "        self.insert_node_after(node, new_node)\n",
    "\n",
    "    def insert_node_after(self, node: Node, new_node: Node):\n",
    "        new_node._next = node._next\n",
    "        node._next = new_node\n",
    "\n",
    "    def insert_value_before(self, node: Node, value: int):\n",
    "        new_node = Node(value)\n",
    "        self.insert_node_before(node, new_node)\n",
    "\n",
    "    def insert_node_before(self, node: Node, new_node: Node):\n",
    "        if not self._head:\n",
    "            return\n",
    "        if self._head == node:\n",
    "            self.insert_node_to_head(new_node)\n",
    "            return\n",
    "        current = self._head\n",
    "        while current._next and current._next != node:\n",
    "            current = current._next\n",
    "        if not current._next:  # node is not even in the list\n",
    "            return\n",
    "        new_node._next = node\n",
    "        current._next = new_node\n",
    "\n",
    "    def delete_by_node(self, node: Node):\n",
    "        # 当链表里面没有数据的时候\n",
    "        if not self._head:\n",
    "            return\n",
    "        # 当node有下一个node的时候， 直接更新node的data和它的下一个引用\n",
    "        if node._next:\n",
    "            node.data = node._next.data\n",
    "            node._next = node._next._next\n",
    "            return\n",
    "        # 当node没有下一个node的时候\n",
    "        current = self._head\n",
    "        while current and current._next != node:\n",
    "            current = current._next\n",
    "        if not current: \n",
    "            return\n",
    "        current._next = node._next\n",
    "\n",
    "    def delete_by_value(self, value: int):\n",
    "        if not self._head or not value:\n",
    "            return\n",
    "        fake_head = Node(value + 1)\n",
    "        fake_head._next = self._head\n",
    "        prev, current = fake_head, self._head\n",
    "        while current:\n",
    "            if current.data != value:\n",
    "                prev._next = current\n",
    "                prev = prev._next\n",
    "            current = current._next\n",
    "        if prev._next:\n",
    "            prev._next = None\n",
    "        self._head = fake_head._next  \n",
    "\n",
    "    def print_all(self):\n",
    "        current = self._head\n",
    "        if current:\n",
    "            print(f\"{current.data}\", end=\"\")\n",
    "            current = current._next\n",
    "        while current:\n",
    "            print(f\"->{current.data}\", end=\"\")\n",
    "            current = current._next\n",
    "        print(\"\\n\", flush=True)\n",
    "\n",
    "    def __repr__(self) -> str:\n",
    "        nums = []\n",
    "        current = self._head\n",
    "        while current:\n",
    "            nums.append(current.data)\n",
    "            current = current._next\n",
    "        return \"->\".join(str(num) for num in nums)\n",
    "\n",
    "    def __iter__(self):\n",
    "        node = self._head\n",
    "        while node:\n",
    "            yield node.data\n",
    "            node = node._next\n"
   ]
  },
  {
   "cell_type": "markdown",
   "metadata": {},
   "source": [
    "#### Demo"
   ]
  },
  {
   "cell_type": "code",
   "execution_count": 16,
   "metadata": {},
   "outputs": [
    {
     "name": "stdout",
     "output_type": "stream",
     "text": [
      "12->10->20->9->8->7->6->5->4->3->2->1->0\n",
      "12\n",
      "10\n",
      "20\n",
      "9\n",
      "8\n",
      "7\n",
      "6\n",
      "5\n",
      "4\n",
      "3\n",
      "2\n",
      "1\n",
      "0\n"
     ]
    }
   ],
   "source": [
    "l = SinglyLinkedList()\n",
    "for i in range(15):\n",
    "    l.insert_value_to_head(i)\n",
    "node9 = l.find_by_value(9)\n",
    "l.insert_value_before(node9, 20)\n",
    "l.insert_value_before(node9, 16)\n",
    "l.insert_value_before(node9, 16)\n",
    "l.delete_by_value(16)\n",
    "node11 = l.find_by_index(3)\n",
    "l.delete_by_node(node11)\n",
    "l.delete_by_node(l._head)\n",
    "l.delete_by_value(13)\n",
    "print(l)\n",
    "for value in l:\n",
    "    print(value)\n"
   ]
  },
  {
   "cell_type": "markdown",
   "metadata": {},
   "source": [
    "#### 常见算法应用"
   ]
  },
  {
   "cell_type": "markdown",
   "metadata": {},
   "source": [
    "#### 实现LRU"
   ]
  },
  {
   "cell_type": "code",
   "execution_count": null,
   "metadata": {},
   "outputs": [],
   "source": []
  }
 ],
 "metadata": {
  "kernelspec": {
   "display_name": "Python 3.9.7 ('base')",
   "language": "python",
   "name": "python3"
  },
  "language_info": {
   "codemirror_mode": {
    "name": "ipython",
    "version": 3
   },
   "file_extension": ".py",
   "mimetype": "text/x-python",
   "name": "python",
   "nbconvert_exporter": "python",
   "pygments_lexer": "ipython3",
   "version": "3.9.7"
  },
  "orig_nbformat": 4,
  "vscode": {
   "interpreter": {
    "hash": "499b90a2f5fb3f4349666474a89bf18bdad22a2c96a4ede479fc917a75e9c3df"
   }
  }
 },
 "nbformat": 4,
 "nbformat_minor": 2
}
