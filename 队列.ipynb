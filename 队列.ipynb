{
 "cells": [
  {
   "cell_type": "markdown",
   "metadata": {},
   "source": [
    "## 队列"
   ]
  },
  {
   "cell_type": "markdown",
   "metadata": {},
   "source": [
    "队列的实现方式有两种， 一种是基于数组， 一种是基于链表。\n",
    "队列可以作为诸如线程池等应用的实现， 在比如对时间和资源比较敏感的情况下， 使用基于数组的队列要好于后者。"
   ]
  },
  {
   "cell_type": "markdown",
   "metadata": {},
   "source": [
    "### 队列的实现"
   ]
  },
  {
   "cell_type": "markdown",
   "metadata": {},
   "source": [
    "#### 基于数组的实现方式"
   ]
  },
  {
   "cell_type": "code",
   "execution_count": 23,
   "metadata": {},
   "outputs": [],
   "source": [
    "class ArrayQueue:\n",
    "    def __init__(self, capacity):\n",
    "        self._items = []\n",
    "        self.capacity = capacity \n",
    "        self.head = 0\n",
    "        self.tail = 0 \n",
    "\n",
    "    def is_empty(self):\n",
    "        return self.head == self.tail \n",
    "\n",
    "\n",
    "    def enqueue(self, item):\n",
    "        if self.tail == self.capacity: \n",
    "            if self.head == 0:\n",
    "                return False \n",
    "            else: # shift to head \n",
    "                for index in range(0, self.tail - self.head):\n",
    "                    self._items[index] = self.items[index + self.head]\n",
    "                self.tail = self.tail - self.head \n",
    "                self.head = 0\n",
    "        self._items.insert(self.tail, item)\n",
    "        self.tail += 1 \n",
    "        return True \n",
    "\n",
    "    \n",
    "    def dequeue(self):\n",
    "        if self.is_empty():\n",
    "            return None \n",
    "        item = self._items[self.head]\n",
    "        self.head += 1 \n",
    "        return item \n",
    "\n",
    "    def __repr__(self) -> str:\n",
    "        return \" \".join(item for item in self._items[self.head : self.tail])"
   ]
  },
  {
   "cell_type": "code",
   "execution_count": 24,
   "metadata": {},
   "outputs": [],
   "source": [
    "q = ArrayQueue(10)"
   ]
  },
  {
   "cell_type": "code",
   "execution_count": 25,
   "metadata": {},
   "outputs": [],
   "source": [
    "for s in [\"a\", \"b\", \"c\"]:\n",
    "    q.enqueue(s)"
   ]
  },
  {
   "cell_type": "code",
   "execution_count": 26,
   "metadata": {},
   "outputs": [
    {
     "data": {
      "text/plain": [
       "a b c"
      ]
     },
     "execution_count": 26,
     "metadata": {},
     "output_type": "execute_result"
    }
   ],
   "source": [
    "q"
   ]
  },
  {
   "cell_type": "code",
   "execution_count": 27,
   "metadata": {},
   "outputs": [
    {
     "name": "stdout",
     "output_type": "stream",
     "text": [
      "a\n"
     ]
    }
   ],
   "source": [
    "print(q.dequeue())"
   ]
  },
  {
   "cell_type": "code",
   "execution_count": 28,
   "metadata": {},
   "outputs": [
    {
     "name": "stdout",
     "output_type": "stream",
     "text": [
      "b\n"
     ]
    }
   ],
   "source": [
    "print(q.dequeue())"
   ]
  },
  {
   "cell_type": "markdown",
   "metadata": {},
   "source": []
  },
  {
   "cell_type": "code",
   "execution_count": null,
   "metadata": {},
   "outputs": [],
   "source": []
  }
 ],
 "metadata": {
  "kernelspec": {
   "display_name": "Python 3.9.7 ('base')",
   "language": "python",
   "name": "python3"
  },
  "language_info": {
   "codemirror_mode": {
    "name": "ipython",
    "version": 3
   },
   "file_extension": ".py",
   "mimetype": "text/x-python",
   "name": "python",
   "nbconvert_exporter": "python",
   "pygments_lexer": "ipython3",
   "version": "3.9.7"
  },
  "orig_nbformat": 4,
  "vscode": {
   "interpreter": {
    "hash": "499b90a2f5fb3f4349666474a89bf18bdad22a2c96a4ede479fc917a75e9c3df"
   }
  }
 },
 "nbformat": 4,
 "nbformat_minor": 2
}
